{
  "cells": [
    {
      "cell_type": "markdown",
      "metadata": {
        "id": "vncDsAP0Gaoa"
      },
      "source": [
        "# **Project Name**    -  Customer satisfaction prediction with Deep Learning\n",
        "\n"
      ]
    },
    {
      "cell_type": "markdown",
      "metadata": {
        "id": "beRrZCGUAJYm"
      },
      "source": [
        "##### **Project Type**    - DeepLearning\n",
        "##### **Contribution**    - Individual\n",
        "##### **Author**          - Aparna Praturi\n"
      ]
    },
    {
      "cell_type": "markdown",
      "metadata": {
        "id": "FJNUwmbgGyua"
      },
      "source": [
        "# **Project Summary -**"
      ]
    },
    {
      "cell_type": "markdown",
      "metadata": {
        "id": "F6v_1wHtG2nS"
      },
      "source": [
  
      ]
    },
    {
      "cell_type": "markdown",
      "metadata": {
        "id": "w6K7xa23Elo4"
      },
      "source": [
        "# **GitHub Link -**"
      ]
    },
    {
      "cell_type": "markdown",
      "metadata": {
        "id": "h1o69JH3Eqqn"
      },
      "source": [
      
      ]
    },
    {
      "cell_type": "markdown",
      "metadata": {
        "id": "yQaldy8SH6Dl"
      },
      "source": [
        "# **Problem Statement**\n"
      ]
    },
    {
      "cell_type": "markdown",
      "metadata": {
        "id": "DpeJGUA3kjGy"
      },
      "source": [
      
      ]
    },
    {
      "cell_type": "markdown",
      "source": [
        "# **Solution**"
      ],
      "metadata": {
        "id": "Gz_rsidk4dwS"
      }
    },
    {
      "cell_type": "markdown",
      "metadata": {
        "id": "HhfV-JJviCcP"
      },
      "source": [
        "## ***1. Knowing Data***"
      ]
    },
    {
      "cell_type": "markdown",
      "metadata": {
        "id": "Y3lxredqlCYt"
      },
      "source": [
        "### Import Libraries"
      ]
    },
    {
      "cell_type": "code",
      "execution_count": 127,
      "metadata": {
        "id": "M8Vqi-pPk-HR"
      },
      "outputs": [],
      "source": [
        "# Import Libraries\n",
        "\n",
        "import pandas as pd\n",
        "import numpy as np\n",
        "import seaborn as sns\n",
        "import matplotlib.pyplot as plt\n",
        "from scipy import stats\n",
        "\n",
        "from sklearn.compose import ColumnTransformer\n",
        "from sklearn.pipeline import Pipeline\n",
        "from sklearn.base import BaseEstimator, TransformerMixin\n",
        "from statsmodels.stats.outliers_influence import variance_inflation_factor\n",
        "\n",
        "from sklearn.preprocessing import PowerTransformer\n",
        "from sklearn.preprocessing import StandardScaler, OneHotEncoder\n",
        "from sklearn.model_selection import train_test_split, GridSearchCV, RandomizedSearchCV\n",
        "\n",
        "from sklearn.linear_model import LinearRegression, Ridge\n",
        "from sklearn.tree import DecisionTreeRegressor\n",
        "from sklearn.ensemble import  RandomForestRegressor\n",
        "from sklearn.svm import SVR\n",
        "from sklearn.neighbors import KNeighborsRegressor\n",
        "from sklearn.metrics import r2_score, mean_squared_error, mean_absolute_error\n",
        "from sklearn.model_selection import KFold\n",
        "\n",
        "\n",
        "import shap\n",
        "import pickle\n",
        "import joblib"
      ]
    },
    {
      "cell_type": "markdown",
      "metadata": {
        "id": "3RnN4peoiCZX"
      },
      "source": [
        "### Dataset Loading"
      ]
    },
    {
      "cell_type": "code",
      "execution_count": 128,
      "metadata": {
        "colab": {
          "base_uri": "https://localhost:8080/"
        },
        "id": "4CkvbW_SlZ_R",
        "outputId": "36396ce4-d58a-4c2c-88a3-3668b1ee0487"
      },
      "outputs": [
        {
          "output_type": "stream",
          "name": "stdout",
          "text": [
            "Drive already mounted at /content/drive; to attempt to forcibly remount, call drive.mount(\"/content/drive\", force_remount=True).\n"
          ]
        }
      ],
      "source": [
        "# Mounting drive\n",
        "\n",
        "from google.colab import drive\n",
        "drive.mount('/content/drive')"
      ]
    },
    {
      "cell_type": "code",
      "execution_count": 129,
      "metadata": {
        "id": "pceRmPKWoNsE",
        "colab": {
          "base_uri": "https://localhost:8080/"
        },
        "outputId": "bdf49539-41c8-40a6-86cd-cd380ab9a83a"
      },
      "outputs": [
        {
          "output_type": "stream",
          "name": "stdout",
          "text": [
            "Data loaded successfully!\n"
          ]
        }
      ],
      "source": [
        "\n",
        "# Defining the path to data file\n",
        "\n",
        "path = '/content/drive/MyDrive/Data science/Datasets/Deep Learning/CSAT.csv'\n",
        "\n",
        "# Loading data to df\n",
        "\n",
        "try:\n",
        "\n",
        "  df_1 = pd.read_csv(f'{path}')\n",
        "\n",
        "  print(\"Data loaded successfully!\")\n",
        "\n",
        "except FileNotFoundError:\n",
        "    print(f\"Error: The file(s) at {path} were not found. Please check the path.\")\n",
        "\n",
        "except pd.errors.EmptyDataError:\n",
        "    print(f\"Error: The file(s) at {path} is empty. Please check the file content.\")\n",
        "\n",
        "except pd.errors.ParserError:\n",
        "    print(f\"Error: There was a problem parsing the file(s) at {path}. Please check the file(s) format.\")\n",
        "\n",
        "except Exception as e:\n",
        "    print(f\"An unexpected error occurred: {e}\")\n",
        "\n",
        "\n"
      ]
    },
    {
      "cell_type": "markdown",
      "metadata": {
        "id": "x71ZqKXriCWQ"
      },
      "source": [
        "### Dataset First View"
      ]
    },
    {
      "cell_type": "code",
      "source": [
        "# Make a copy of dataset for first look and  visualisation part\n",
        "\n",
        "df = df_1.copy()"
      ],
      "metadata": {
        "id": "Dl6jl9_-pRey"
      },
      "execution_count": 130,
      "outputs": []
    },
    {
      "cell_type": "code",
      "execution_count": 131,
      "metadata": {
        "colab": {
          "base_uri": "https://localhost:8080/",
          "height": 991
        },
        "id": "LWNFOSvLl09H",
        "outputId": "e199f064-ede7-4130-95b0-72f642b563ec"
      },
      "outputs": [
        {
          "output_type": "stream",
          "name": "stderr",
          "text": [
            "/usr/local/lib/python3.11/dist-packages/google/colab/_dataframe_summarizer.py:88: UserWarning: Parsing dates in %d/%m/%Y %H:%M format when dayfirst=False (the default) was specified. Pass `dayfirst=True` or specify a format to silence this warning.\n",
            "  cast_date_col = pd.to_datetime(column, errors=\"coerce\")\n"
          ]
        },
        {
          "output_type": "execute_result",
          "data": {
            "text/plain": [
              "                              Unique id channel_name           category  \\\n",
              "0  7e9ae164-6a8b-4521-a2d4-58f7c9fff13f      Outcall    Product Queries   \n",
              "1  b07ec1b0-f376-43b6-86df-ec03da3b2e16      Outcall    Product Queries   \n",
              "2  200814dd-27c7-4149-ba2b-bd3af3092880      Inbound      Order Related   \n",
              "3  eb0d3e53-c1ca-42d3-8486-e42c8d622135      Inbound            Returns   \n",
              "4  ba903143-1e54-406c-b969-46c52f92e5df      Inbound       Cancellation   \n",
              "5  1cfde5b9-6112-44fc-8f3b-892196137a62        Email            Returns   \n",
              "6  11a3ffd8-1d6b-4806-b198-c60b5934c9bc      Outcall    Product Queries   \n",
              "7  372b51a5-fa19-4a31-a4b8-a21de117d75e      Inbound            Returns   \n",
              "8  6e4413db-4e16-42fc-ac92-2f402e3df03c      Inbound            Returns   \n",
              "9  b0a65350-64a5-4603-8b9a-a24a4a145d08      Inbound  Shopzilla Related   \n",
              "\n",
              "                   Sub-category  \\\n",
              "0                Life Insurance   \n",
              "1  Product Specific Information   \n",
              "2             Installation/demo   \n",
              "3        Reverse Pickup Enquiry   \n",
              "4                    Not Needed   \n",
              "5               Fraudulent User   \n",
              "6  Product Specific Information   \n",
              "7        Exchange / Replacement   \n",
              "8                       Missing   \n",
              "9               General Enquiry   \n",
              "\n",
              "                                    Customer Remarks  \\\n",
              "0                                                NaN   \n",
              "1                                                NaN   \n",
              "2                                                NaN   \n",
              "3                                                NaN   \n",
              "4                                                NaN   \n",
              "5                                                NaN   \n",
              "6                                                NaN   \n",
              "7                                          Very good   \n",
              "8  Shopzilla app and it's all coustomer care serv...   \n",
              "9                                                NaN   \n",
              "\n",
              "                               Order_id order_date_time Issue_reported at  \\\n",
              "0  c27c9bb4-fa36-4140-9f1f-21009254ffdb             NaN  01/08/2023 11:13   \n",
              "1  d406b0c7-ce17-4654-b9de-f08d421254bd             NaN  01/08/2023 12:52   \n",
              "2  c273368d-b961-44cb-beaf-62d6fd6c00d5             NaN  01/08/2023 20:16   \n",
              "3  5aed0059-55a4-4ec6-bb54-97942092020a             NaN  01/08/2023 20:56   \n",
              "4  e8bed5a9-6933-4aff-9dc6-ccefd7dcde59             NaN  01/08/2023 10:30   \n",
              "5  a2938961-2833-45f1-83d6-678d9555c603             NaN  01/08/2023 15:13   \n",
              "6  bfcb562b-9a2f-4cca-aa79-fd4e2952f901             NaN  01/08/2023 15:31   \n",
              "7  88537e0b-5ffa-43f9-bbe2-fe57a0f4e4ae             NaN  01/08/2023 16:17   \n",
              "8  e6be9713-13c3-493c-8a91-2137cbbfa7e6             NaN  01/08/2023 21:03   \n",
              "9  c7caa804-2525-499e-b202-4c781cb68974             NaN  01/08/2023 23:31   \n",
              "\n",
              "    issue_responded Survey_response_Date Customer_City Product_category  \\\n",
              "0  01/08/2023 11:47            01-Aug-23           NaN              NaN   \n",
              "1  01/08/2023 12:54            01-Aug-23           NaN              NaN   \n",
              "2  01/08/2023 20:38            01-Aug-23           NaN              NaN   \n",
              "3  01/08/2023 21:16            01-Aug-23           NaN              NaN   \n",
              "4  01/08/2023 10:32            01-Aug-23           NaN              NaN   \n",
              "5  01/08/2023 18:39            01-Aug-23           NaN              NaN   \n",
              "6  01/08/2023 23:52            01-Aug-23           NaN              NaN   \n",
              "7  01/08/2023 16:23            01-Aug-23           NaN              NaN   \n",
              "8  01/08/2023 21:07            01-Aug-23           NaN              NaN   \n",
              "9  01/08/2023 23:36            01-Aug-23           NaN              NaN   \n",
              "\n",
              "   Item_price  connected_handling_time           Agent_name      Supervisor  \\\n",
              "0         NaN                      NaN     Richard Buchanan     Mason Gupta   \n",
              "1         NaN                      NaN        Vicki Collins       Dylan Kim   \n",
              "2         NaN                      NaN         Duane Norman    Jackson Park   \n",
              "3         NaN                      NaN       Patrick Flores     Olivia Wang   \n",
              "4         NaN                      NaN  Christopher Sanchez  Austin Johnson   \n",
              "5         NaN                      NaN       Desiree Newton       Emma Park   \n",
              "6         NaN                      NaN        Shannon Hicks     Aiden Patel   \n",
              "7         NaN                      NaN          Laura Smith   Evelyn Kimura   \n",
              "8         NaN                      NaN          David Smith    Nathan Patel   \n",
              "9         NaN                      NaN        Tabitha Ayala   Amelia Tanaka   \n",
              "\n",
              "           Manager    Tenure Bucket Agent Shift  CSAT Score  \n",
              "0  Jennifer Nguyen  On Job Training     Morning           5  \n",
              "1      Michael Lee              >90     Morning           5  \n",
              "2      William Kim  On Job Training     Evening           5  \n",
              "3       John Smith              >90     Evening           5  \n",
              "4      Michael Lee             0-30     Morning           5  \n",
              "5       John Smith             0-30     Morning           5  \n",
              "6       Olivia Tan              >90     Morning           5  \n",
              "7  Jennifer Nguyen  On Job Training     Evening           5  \n",
              "8       John Smith              >90       Split           5  \n",
              "9      Michael Lee            31-60     Evening           5  "
            ],
            "text/html": [
              "\n",
              "  <div id=\"df-37dbfde2-3c43-41e3-b665-f5c9274a9cce\" class=\"colab-df-container\">\n",
              "    <div>\n",
              "<style scoped>\n",
              "    .dataframe tbody tr th:only-of-type {\n",
              "        vertical-align: middle;\n",
              "    }\n",
              "\n",
              "    .dataframe tbody tr th {\n",
              "        vertical-align: top;\n",
              "    }\n",
              "\n",
              "    .dataframe thead th {\n",
              "        text-align: right;\n",
              "    }\n",
              "</style>\n",
              "<table border=\"1\" class=\"dataframe\">\n",
              "  <thead>\n",
              "    <tr style=\"text-align: right;\">\n",
              "      <th></th>\n",
              "      <th>Unique id</th>\n",
              "      <th>channel_name</th>\n",
              "      <th>category</th>\n",
              "      <th>Sub-category</th>\n",
              "      <th>Customer Remarks</th>\n",
              "      <th>Order_id</th>\n",
              "      <th>order_date_time</th>\n",
              "      <th>Issue_reported at</th>\n",
              "      <th>issue_responded</th>\n",
              "      <th>Survey_response_Date</th>\n",
              "      <th>Customer_City</th>\n",
              "      <th>Product_category</th>\n",
              "      <th>Item_price</th>\n",
              "      <th>connected_handling_time</th>\n",
              "      <th>Agent_name</th>\n",
              "      <th>Supervisor</th>\n",
              "      <th>Manager</th>\n",
              "      <th>Tenure Bucket</th>\n",
              "      <th>Agent Shift</th>\n",
              "      <th>CSAT Score</th>\n",
              "    </tr>\n",
              "  </thead>\n",
              "  <tbody>\n",
              "    <tr>\n",
              "      <th>0</th>\n",
              "      <td>7e9ae164-6a8b-4521-a2d4-58f7c9fff13f</td>\n",
              "      <td>Outcall</td>\n",
              "      <td>Product Queries</td>\n",
              "      <td>Life Insurance</td>\n",
              "      <td>NaN</td>\n",
              "      <td>c27c9bb4-fa36-4140-9f1f-21009254ffdb</td>\n",
              "      <td>NaN</td>\n",
              "      <td>01/08/2023 11:13</td>\n",
              "      <td>01/08/2023 11:47</td>\n",
              "      <td>01-Aug-23</td>\n",
              "      <td>NaN</td>\n",
              "      <td>NaN</td>\n",
              "      <td>NaN</td>\n",
              "      <td>NaN</td>\n",
              "      <td>Richard Buchanan</td>\n",
              "      <td>Mason Gupta</td>\n",
              "      <td>Jennifer Nguyen</td>\n",
              "      <td>On Job Training</td>\n",
              "      <td>Morning</td>\n",
              "      <td>5</td>\n",
              "    </tr>\n",
              "    <tr>\n",
              "      <th>1</th>\n",
              "      <td>b07ec1b0-f376-43b6-86df-ec03da3b2e16</td>\n",
              "      <td>Outcall</td>\n",
              "      <td>Product Queries</td>\n",
              "      <td>Product Specific Information</td>\n",
              "      <td>NaN</td>\n",
              "      <td>d406b0c7-ce17-4654-b9de-f08d421254bd</td>\n",
              "      <td>NaN</td>\n",
              "      <td>01/08/2023 12:52</td>\n",
              "      <td>01/08/2023 12:54</td>\n",
              "      <td>01-Aug-23</td>\n",
              "      <td>NaN</td>\n",
              "      <td>NaN</td>\n",
              "      <td>NaN</td>\n",
              "      <td>NaN</td>\n",
              "      <td>Vicki Collins</td>\n",
              "      <td>Dylan Kim</td>\n",
              "      <td>Michael Lee</td>\n",
              "      <td>&gt;90</td>\n",
              "      <td>Morning</td>\n",
              "      <td>5</td>\n",
              "    </tr>\n",
              "    <tr>\n",
              "      <th>2</th>\n",
              "      <td>200814dd-27c7-4149-ba2b-bd3af3092880</td>\n",
              "      <td>Inbound</td>\n",
              "      <td>Order Related</td>\n",
              "      <td>Installation/demo</td>\n",
              "      <td>NaN</td>\n",
              "      <td>c273368d-b961-44cb-beaf-62d6fd6c00d5</td>\n",
              "      <td>NaN</td>\n",
              "      <td>01/08/2023 20:16</td>\n",
              "      <td>01/08/2023 20:38</td>\n",
              "      <td>01-Aug-23</td>\n",
              "      <td>NaN</td>\n",
              "      <td>NaN</td>\n",
              "      <td>NaN</td>\n",
              "      <td>NaN</td>\n",
              "      <td>Duane Norman</td>\n",
              "      <td>Jackson Park</td>\n",
              "      <td>William Kim</td>\n",
              "      <td>On Job Training</td>\n",
              "      <td>Evening</td>\n",
              "      <td>5</td>\n",
              "    </tr>\n",
              "    <tr>\n",
              "      <th>3</th>\n",
              "      <td>eb0d3e53-c1ca-42d3-8486-e42c8d622135</td>\n",
              "      <td>Inbound</td>\n",
              "      <td>Returns</td>\n",
              "      <td>Reverse Pickup Enquiry</td>\n",
              "      <td>NaN</td>\n",
              "      <td>5aed0059-55a4-4ec6-bb54-97942092020a</td>\n",
              "      <td>NaN</td>\n",
              "      <td>01/08/2023 20:56</td>\n",
              "      <td>01/08/2023 21:16</td>\n",
              "      <td>01-Aug-23</td>\n",
              "      <td>NaN</td>\n",
              "      <td>NaN</td>\n",
              "      <td>NaN</td>\n",
              "      <td>NaN</td>\n",
              "      <td>Patrick Flores</td>\n",
              "      <td>Olivia Wang</td>\n",
              "      <td>John Smith</td>\n",
              "      <td>&gt;90</td>\n",
              "      <td>Evening</td>\n",
              "      <td>5</td>\n",
              "    </tr>\n",
              "    <tr>\n",
              "      <th>4</th>\n",
              "      <td>ba903143-1e54-406c-b969-46c52f92e5df</td>\n",
              "      <td>Inbound</td>\n",
              "      <td>Cancellation</td>\n",
              "      <td>Not Needed</td>\n",
              "      <td>NaN</td>\n",
              "      <td>e8bed5a9-6933-4aff-9dc6-ccefd7dcde59</td>\n",
              "      <td>NaN</td>\n",
              "      <td>01/08/2023 10:30</td>\n",
              "      <td>01/08/2023 10:32</td>\n",
              "      <td>01-Aug-23</td>\n",
              "      <td>NaN</td>\n",
              "      <td>NaN</td>\n",
              "      <td>NaN</td>\n",
              "      <td>NaN</td>\n",
              "      <td>Christopher Sanchez</td>\n",
              "      <td>Austin Johnson</td>\n",
              "      <td>Michael Lee</td>\n",
              "      <td>0-30</td>\n",
              "      <td>Morning</td>\n",
              "      <td>5</td>\n",
              "    </tr>\n",
              "    <tr>\n",
              "      <th>5</th>\n",
              "      <td>1cfde5b9-6112-44fc-8f3b-892196137a62</td>\n",
              "      <td>Email</td>\n",
              "      <td>Returns</td>\n",
              "      <td>Fraudulent User</td>\n",
              "      <td>NaN</td>\n",
              "      <td>a2938961-2833-45f1-83d6-678d9555c603</td>\n",
              "      <td>NaN</td>\n",
              "      <td>01/08/2023 15:13</td>\n",
              "      <td>01/08/2023 18:39</td>\n",
              "      <td>01-Aug-23</td>\n",
              "      <td>NaN</td>\n",
              "      <td>NaN</td>\n",
              "      <td>NaN</td>\n",
              "      <td>NaN</td>\n",
              "      <td>Desiree Newton</td>\n",
              "      <td>Emma Park</td>\n",
              "      <td>John Smith</td>\n",
              "      <td>0-30</td>\n",
              "      <td>Morning</td>\n",
              "      <td>5</td>\n",
              "    </tr>\n",
              "    <tr>\n",
              "      <th>6</th>\n",
              "      <td>11a3ffd8-1d6b-4806-b198-c60b5934c9bc</td>\n",
              "      <td>Outcall</td>\n",
              "      <td>Product Queries</td>\n",
              "      <td>Product Specific Information</td>\n",
              "      <td>NaN</td>\n",
              "      <td>bfcb562b-9a2f-4cca-aa79-fd4e2952f901</td>\n",
              "      <td>NaN</td>\n",
              "      <td>01/08/2023 15:31</td>\n",
              "      <td>01/08/2023 23:52</td>\n",
              "      <td>01-Aug-23</td>\n",
              "      <td>NaN</td>\n",
              "      <td>NaN</td>\n",
              "      <td>NaN</td>\n",
              "      <td>NaN</td>\n",
              "      <td>Shannon Hicks</td>\n",
              "      <td>Aiden Patel</td>\n",
              "      <td>Olivia Tan</td>\n",
              "      <td>&gt;90</td>\n",
              "      <td>Morning</td>\n",
              "      <td>5</td>\n",
              "    </tr>\n",
              "    <tr>\n",
              "      <th>7</th>\n",
              "      <td>372b51a5-fa19-4a31-a4b8-a21de117d75e</td>\n",
              "      <td>Inbound</td>\n",
              "      <td>Returns</td>\n",
              "      <td>Exchange / Replacement</td>\n",
              "      <td>Very good</td>\n",
              "      <td>88537e0b-5ffa-43f9-bbe2-fe57a0f4e4ae</td>\n",
              "      <td>NaN</td>\n",
              "      <td>01/08/2023 16:17</td>\n",
              "      <td>01/08/2023 16:23</td>\n",
              "      <td>01-Aug-23</td>\n",
              "      <td>NaN</td>\n",
              "      <td>NaN</td>\n",
              "      <td>NaN</td>\n",
              "      <td>NaN</td>\n",
              "      <td>Laura Smith</td>\n",
              "      <td>Evelyn Kimura</td>\n",
              "      <td>Jennifer Nguyen</td>\n",
              "      <td>On Job Training</td>\n",
              "      <td>Evening</td>\n",
              "      <td>5</td>\n",
              "    </tr>\n",
              "    <tr>\n",
              "      <th>8</th>\n",
              "      <td>6e4413db-4e16-42fc-ac92-2f402e3df03c</td>\n",
              "      <td>Inbound</td>\n",
              "      <td>Returns</td>\n",
              "      <td>Missing</td>\n",
              "      <td>Shopzilla app and it's all coustomer care serv...</td>\n",
              "      <td>e6be9713-13c3-493c-8a91-2137cbbfa7e6</td>\n",
              "      <td>NaN</td>\n",
              "      <td>01/08/2023 21:03</td>\n",
              "      <td>01/08/2023 21:07</td>\n",
              "      <td>01-Aug-23</td>\n",
              "      <td>NaN</td>\n",
              "      <td>NaN</td>\n",
              "      <td>NaN</td>\n",
              "      <td>NaN</td>\n",
              "      <td>David Smith</td>\n",
              "      <td>Nathan Patel</td>\n",
              "      <td>John Smith</td>\n",
              "      <td>&gt;90</td>\n",
              "      <td>Split</td>\n",
              "      <td>5</td>\n",
              "    </tr>\n",
              "    <tr>\n",
              "      <th>9</th>\n",
              "      <td>b0a65350-64a5-4603-8b9a-a24a4a145d08</td>\n",
              "      <td>Inbound</td>\n",
              "      <td>Shopzilla Related</td>\n",
              "      <td>General Enquiry</td>\n",
              "      <td>NaN</td>\n",
              "      <td>c7caa804-2525-499e-b202-4c781cb68974</td>\n",
              "      <td>NaN</td>\n",
              "      <td>01/08/2023 23:31</td>\n",
              "      <td>01/08/2023 23:36</td>\n",
              "      <td>01-Aug-23</td>\n",
              "      <td>NaN</td>\n",
              "      <td>NaN</td>\n",
              "      <td>NaN</td>\n",
              "      <td>NaN</td>\n",
              "      <td>Tabitha Ayala</td>\n",
              "      <td>Amelia Tanaka</td>\n",
              "      <td>Michael Lee</td>\n",
              "      <td>31-60</td>\n",
              "      <td>Evening</td>\n",
              "      <td>5</td>\n",
              "    </tr>\n",
              "  </tbody>\n",
              "</table>\n",
              "</div>\n",
              "    <div class=\"colab-df-buttons\">\n",
              "\n",
              "  <div class=\"colab-df-container\">\n",
              "    <button class=\"colab-df-convert\" onclick=\"convertToInteractive('df-37dbfde2-3c43-41e3-b665-f5c9274a9cce')\"\n",
              "            title=\"Convert this dataframe to an interactive table.\"\n",
              "            style=\"display:none;\">\n",
              "\n",
              "  <svg xmlns=\"http://www.w3.org/2000/svg\" height=\"24px\" viewBox=\"0 -960 960 960\">\n",
              "    <path d=\"M120-120v-720h720v720H120Zm60-500h600v-160H180v160Zm220 220h160v-160H400v160Zm0 220h160v-160H400v160ZM180-400h160v-160H180v160Zm440 0h160v-160H620v160ZM180-180h160v-160H180v160Zm440 0h160v-160H620v160Z\"/>\n",
              "  </svg>\n",
              "    </button>\n",
              "\n",
              "  <style>\n",
              "    .colab-df-container {\n",
              "      display:flex;\n",
              "      gap: 12px;\n",
              "    }\n",
              "\n",
              "    .colab-df-convert {\n",
              "      background-color: #E8F0FE;\n",
              "      border: none;\n",
              "      border-radius: 50%;\n",
              "      cursor: pointer;\n",
              "      display: none;\n",
              "      fill: #1967D2;\n",
              "      height: 32px;\n",
              "      padding: 0 0 0 0;\n",
              "      width: 32px;\n",
              "    }\n",
              "\n",
              "    .colab-df-convert:hover {\n",
              "      background-color: #E2EBFA;\n",
              "      box-shadow: 0px 1px 2px rgba(60, 64, 67, 0.3), 0px 1px 3px 1px rgba(60, 64, 67, 0.15);\n",
              "      fill: #174EA6;\n",
              "    }\n",
              "\n",
              "    .colab-df-buttons div {\n",
              "      margin-bottom: 4px;\n",
              "    }\n",
              "\n",
              "    [theme=dark] .colab-df-convert {\n",
              "      background-color: #3B4455;\n",
              "      fill: #D2E3FC;\n",
              "    }\n",
              "\n",
              "    [theme=dark] .colab-df-convert:hover {\n",
              "      background-color: #434B5C;\n",
              "      box-shadow: 0px 1px 3px 1px rgba(0, 0, 0, 0.15);\n",
              "      filter: drop-shadow(0px 1px 2px rgba(0, 0, 0, 0.3));\n",
              "      fill: #FFFFFF;\n",
              "    }\n",
              "  </style>\n",
              "\n",
              "    <script>\n",
              "      const buttonEl =\n",
              "        document.querySelector('#df-37dbfde2-3c43-41e3-b665-f5c9274a9cce button.colab-df-convert');\n",
              "      buttonEl.style.display =\n",
              "        google.colab.kernel.accessAllowed ? 'block' : 'none';\n",
              "\n",
              "      async function convertToInteractive(key) {\n",
              "        const element = document.querySelector('#df-37dbfde2-3c43-41e3-b665-f5c9274a9cce');\n",
              "        const dataTable =\n",
              "          await google.colab.kernel.invokeFunction('convertToInteractive',\n",
              "                                                    [key], {});\n",
              "        if (!dataTable) return;\n",
              "\n",
              "        const docLinkHtml = 'Like what you see? Visit the ' +\n",
              "          '<a target=\"_blank\" href=https://colab.research.google.com/notebooks/data_table.ipynb>data table notebook</a>'\n",
              "          + ' to learn more about interactive tables.';\n",
              "        element.innerHTML = '';\n",
              "        dataTable['output_type'] = 'display_data';\n",
              "        await google.colab.output.renderOutput(dataTable, element);\n",
              "        const docLink = document.createElement('div');\n",
              "        docLink.innerHTML = docLinkHtml;\n",
              "        element.appendChild(docLink);\n",
              "      }\n",
              "    </script>\n",
              "  </div>\n",
              "\n",
              "\n",
              "    <div id=\"df-75965d99-8281-4935-8a62-d2c5187ee83a\">\n",
              "      <button class=\"colab-df-quickchart\" onclick=\"quickchart('df-75965d99-8281-4935-8a62-d2c5187ee83a')\"\n",
              "                title=\"Suggest charts\"\n",
              "                style=\"display:none;\">\n",
              "\n",
              "<svg xmlns=\"http://www.w3.org/2000/svg\" height=\"24px\"viewBox=\"0 0 24 24\"\n",
              "     width=\"24px\">\n",
              "    <g>\n",
              "        <path d=\"M19 3H5c-1.1 0-2 .9-2 2v14c0 1.1.9 2 2 2h14c1.1 0 2-.9 2-2V5c0-1.1-.9-2-2-2zM9 17H7v-7h2v7zm4 0h-2V7h2v10zm4 0h-2v-4h2v4z\"/>\n",
              "    </g>\n",
              "</svg>\n",
              "      </button>\n",
              "\n",
              "<style>\n",
              "  .colab-df-quickchart {\n",
              "      --bg-color: #E8F0FE;\n",
              "      --fill-color: #1967D2;\n",
              "      --hover-bg-color: #E2EBFA;\n",
              "      --hover-fill-color: #174EA6;\n",
              "      --disabled-fill-color: #AAA;\n",
              "      --disabled-bg-color: #DDD;\n",
              "  }\n",
              "\n",
              "  [theme=dark] .colab-df-quickchart {\n",
              "      --bg-color: #3B4455;\n",
              "      --fill-color: #D2E3FC;\n",
              "      --hover-bg-color: #434B5C;\n",
              "      --hover-fill-color: #FFFFFF;\n",
              "      --disabled-bg-color: #3B4455;\n",
              "      --disabled-fill-color: #666;\n",
              "  }\n",
              "\n",
              "  .colab-df-quickchart {\n",
              "    background-color: var(--bg-color);\n",
              "    border: none;\n",
              "    border-radius: 50%;\n",
              "    cursor: pointer;\n",
              "    display: none;\n",
              "    fill: var(--fill-color);\n",
              "    height: 32px;\n",
              "    padding: 0;\n",
              "    width: 32px;\n",
              "  }\n",
              "\n",
              "  .colab-df-quickchart:hover {\n",
              "    background-color: var(--hover-bg-color);\n",
              "    box-shadow: 0 1px 2px rgba(60, 64, 67, 0.3), 0 1px 3px 1px rgba(60, 64, 67, 0.15);\n",
              "    fill: var(--button-hover-fill-color);\n",
              "  }\n",
              "\n",
              "  .colab-df-quickchart-complete:disabled,\n",
              "  .colab-df-quickchart-complete:disabled:hover {\n",
              "    background-color: var(--disabled-bg-color);\n",
              "    fill: var(--disabled-fill-color);\n",
              "    box-shadow: none;\n",
              "  }\n",
              "\n",
              "  .colab-df-spinner {\n",
              "    border: 2px solid var(--fill-color);\n",
              "    border-color: transparent;\n",
              "    border-bottom-color: var(--fill-color);\n",
              "    animation:\n",
              "      spin 1s steps(1) infinite;\n",
              "  }\n",
              "\n",
              "  @keyframes spin {\n",
              "    0% {\n",
              "      border-color: transparent;\n",
              "      border-bottom-color: var(--fill-color);\n",
              "      border-left-color: var(--fill-color);\n",
              "    }\n",
              "    20% {\n",
              "      border-color: transparent;\n",
              "      border-left-color: var(--fill-color);\n",
              "      border-top-color: var(--fill-color);\n",
              "    }\n",
              "    30% {\n",
              "      border-color: transparent;\n",
              "      border-left-color: var(--fill-color);\n",
              "      border-top-color: var(--fill-color);\n",
              "      border-right-color: var(--fill-color);\n",
              "    }\n",
              "    40% {\n",
              "      border-color: transparent;\n",
              "      border-right-color: var(--fill-color);\n",
              "      border-top-color: var(--fill-color);\n",
              "    }\n",
              "    60% {\n",
              "      border-color: transparent;\n",
              "      border-right-color: var(--fill-color);\n",
              "    }\n",
              "    80% {\n",
              "      border-color: transparent;\n",
              "      border-right-color: var(--fill-color);\n",
              "      border-bottom-color: var(--fill-color);\n",
              "    }\n",
              "    90% {\n",
              "      border-color: transparent;\n",
              "      border-bottom-color: var(--fill-color);\n",
              "    }\n",
              "  }\n",
              "</style>\n",
              "\n",
              "      <script>\n",
              "        async function quickchart(key) {\n",
              "          const quickchartButtonEl =\n",
              "            document.querySelector('#' + key + ' button');\n",
              "          quickchartButtonEl.disabled = true;  // To prevent multiple clicks.\n",
              "          quickchartButtonEl.classList.add('colab-df-spinner');\n",
              "          try {\n",
              "            const charts = await google.colab.kernel.invokeFunction(\n",
              "                'suggestCharts', [key], {});\n",
              "          } catch (error) {\n",
              "            console.error('Error during call to suggestCharts:', error);\n",
              "          }\n",
              "          quickchartButtonEl.classList.remove('colab-df-spinner');\n",
              "          quickchartButtonEl.classList.add('colab-df-quickchart-complete');\n",
              "        }\n",
              "        (() => {\n",
              "          let quickchartButtonEl =\n",
              "            document.querySelector('#df-75965d99-8281-4935-8a62-d2c5187ee83a button');\n",
              "          quickchartButtonEl.style.display =\n",
              "            google.colab.kernel.accessAllowed ? 'block' : 'none';\n",
              "        })();\n",
              "      </script>\n",
              "    </div>\n",
              "\n",
              "    </div>\n",
              "  </div>\n"
            ],
            "application/vnd.google.colaboratory.intrinsic+json": {
              "type": "dataframe",
              "variable_name": "df",
              "summary": "{\n  \"name\": \"df\",\n  \"rows\": 85907,\n  \"fields\": [\n    {\n      \"column\": \"Unique id\",\n      \"properties\": {\n        \"dtype\": \"string\",\n        \"num_unique_values\": 85907,\n        \"samples\": [\n          \"fc42f862-7521-472c-b569-8bce866ebe8c\",\n          \"a7bb8900-a120-430f-b573-55ed6c16faab\",\n          \"b697f809-0d10-4839-9ccd-152ab6a179f4\"\n        ],\n        \"semantic_type\": \"\",\n        \"description\": \"\"\n      }\n    },\n    {\n      \"column\": \"channel_name\",\n      \"properties\": {\n        \"dtype\": \"category\",\n        \"num_unique_values\": 3,\n        \"samples\": [\n          \"Outcall\",\n          \"Inbound\",\n          \"Email\"\n        ],\n        \"semantic_type\": \"\",\n        \"description\": \"\"\n      }\n    },\n    {\n      \"column\": \"category\",\n      \"properties\": {\n        \"dtype\": \"category\",\n        \"num_unique_values\": 12,\n        \"samples\": [\n          \"Others\",\n          \"Onboarding related\",\n          \"Product Queries\"\n        ],\n        \"semantic_type\": \"\",\n        \"description\": \"\"\n      }\n    },\n    {\n      \"column\": \"Sub-category\",\n      \"properties\": {\n        \"dtype\": \"category\",\n        \"num_unique_values\": 57,\n        \"samples\": [\n          \"Life Insurance\",\n          \"Fraudulent User\",\n          \"Card/EMI\"\n        ],\n        \"semantic_type\": \"\",\n        \"description\": \"\"\n      }\n    },\n    {\n      \"column\": \"Customer Remarks\",\n      \"properties\": {\n        \"dtype\": \"category\",\n        \"num_unique_values\": 18231,\n        \"samples\": [\n          \"Interaction in telephonically is good experience she talk very nyc n solve my problem thanx dear\",\n          \"I am happy with the support received.\",\n          \"Please remove your Shopzilla vendor from your service \"\n        ],\n        \"semantic_type\": \"\",\n        \"description\": \"\"\n      }\n    },\n    {\n      \"column\": \"Order_id\",\n      \"properties\": {\n        \"dtype\": \"string\",\n        \"num_unique_values\": 67675,\n        \"samples\": [\n          \"414c0688-adaf-4123-b342-e8bd2c050638\",\n          \"110cba2e-b988-40b8-9967-716c8d6e7a71\",\n          \"0058ad82-75ed-4253-821b-86553937658b\"\n        ],\n        \"semantic_type\": \"\",\n        \"description\": \"\"\n      }\n    },\n    {\n      \"column\": \"order_date_time\",\n      \"properties\": {\n        \"dtype\": \"date\",\n        \"min\": \"2022-01-16 13:15:00\",\n        \"max\": \"2023-12-08 23:36:00\",\n        \"num_unique_values\": 13766,\n        \"samples\": [\n          \"27/06/2023 08:27\",\n          \"09/08/2023 06:19\",\n          \"28/07/2023 19:02\"\n        ],\n        \"semantic_type\": \"\",\n        \"description\": \"\"\n      }\n    },\n    {\n      \"column\": \"Issue_reported at\",\n      \"properties\": {\n        \"dtype\": \"category\",\n        \"num_unique_values\": 30923,\n        \"samples\": [\n          \"26/08/2023 17:45\",\n          \"11/08/2023 01:02\",\n          \"25/08/2023 22:00\"\n        ],\n        \"semantic_type\": \"\",\n        \"description\": \"\"\n      }\n    },\n    {\n      \"column\": \"issue_responded\",\n      \"properties\": {\n        \"dtype\": \"category\",\n        \"num_unique_values\": 30262,\n        \"samples\": [\n          \"11/08/2023 15:20\",\n          \"05/08/2023 23:43\",\n          \"06/08/2023 11:39\"\n        ],\n        \"semantic_type\": \"\",\n        \"description\": \"\"\n      }\n    },\n    {\n      \"column\": \"Survey_response_Date\",\n      \"properties\": {\n        \"dtype\": \"object\",\n        \"num_unique_values\": 31,\n        \"samples\": [\n          \"28-Aug-23\",\n          \"16-Aug-23\",\n          \"24-Aug-23\"\n        ],\n        \"semantic_type\": \"\",\n        \"description\": \"\"\n      }\n    },\n    {\n      \"column\": \"Customer_City\",\n      \"properties\": {\n        \"dtype\": \"category\",\n        \"num_unique_values\": 1782,\n        \"samples\": [\n          \"FEROZEPUR JHIRKA\",\n          \"NAMRUP\",\n          \"MUZAFFARPUR\"\n        ],\n        \"semantic_type\": \"\",\n        \"description\": \"\"\n      }\n    },\n    {\n      \"column\": \"Product_category\",\n      \"properties\": {\n        \"dtype\": \"category\",\n        \"num_unique_values\": 9,\n        \"samples\": [\n          \"GiftCard\",\n          \"Electronics\",\n          \"Home\"\n        ],\n        \"semantic_type\": \"\",\n        \"description\": \"\"\n      }\n    },\n    {\n      \"column\": \"Item_price\",\n      \"properties\": {\n        \"dtype\": \"number\",\n        \"std\": 12825.728411195778,\n        \"min\": 0.0,\n        \"max\": 164999.0,\n        \"num_unique_values\": 2789,\n        \"samples\": [\n          764.0,\n          1055.0,\n          2386.0\n        ],\n        \"semantic_type\": \"\",\n        \"description\": \"\"\n      }\n    },\n    {\n      \"column\": \"connected_handling_time\",\n      \"properties\": {\n        \"dtype\": \"number\",\n        \"std\": 246.29503712116792,\n        \"min\": 0.0,\n        \"max\": 1986.0,\n        \"num_unique_values\": 211,\n        \"samples\": [\n          777.0,\n          282.0,\n          815.0\n        ],\n        \"semantic_type\": \"\",\n        \"description\": \"\"\n      }\n    },\n    {\n      \"column\": \"Agent_name\",\n      \"properties\": {\n        \"dtype\": \"category\",\n        \"num_unique_values\": 1371,\n        \"samples\": [\n          \"Kimberly Morris\",\n          \"Russell Ramsey\",\n          \"Joshua Foster\"\n        ],\n        \"semantic_type\": \"\",\n        \"description\": \"\"\n      }\n    },\n    {\n      \"column\": \"Supervisor\",\n      \"properties\": {\n        \"dtype\": \"category\",\n        \"num_unique_values\": 40,\n        \"samples\": [\n          \"Madison Kim\",\n          \"Mia Patel\",\n          \"Logan Lee\"\n        ],\n        \"semantic_type\": \"\",\n        \"description\": \"\"\n      }\n    },\n    {\n      \"column\": \"Manager\",\n      \"properties\": {\n        \"dtype\": \"category\",\n        \"num_unique_values\": 6,\n        \"samples\": [\n          \"Jennifer Nguyen\",\n          \"Michael Lee\",\n          \"Emily Chen\"\n        ],\n        \"semantic_type\": \"\",\n        \"description\": \"\"\n      }\n    },\n    {\n      \"column\": \"Tenure Bucket\",\n      \"properties\": {\n        \"dtype\": \"category\",\n        \"num_unique_values\": 5,\n        \"samples\": [\n          \">90\",\n          \"61-90\",\n          \"0-30\"\n        ],\n        \"semantic_type\": \"\",\n        \"description\": \"\"\n      }\n    },\n    {\n      \"column\": \"Agent Shift\",\n      \"properties\": {\n        \"dtype\": \"category\",\n        \"num_unique_values\": 5,\n        \"samples\": [\n          \"Evening\",\n          \"Night\",\n          \"Split\"\n        ],\n        \"semantic_type\": \"\",\n        \"description\": \"\"\n      }\n    },\n    {\n      \"column\": \"CSAT Score\",\n      \"properties\": {\n        \"dtype\": \"number\",\n        \"std\": 1,\n        \"min\": 1,\n        \"max\": 5,\n        \"num_unique_values\": 5,\n        \"samples\": [\n          4,\n          2,\n          1\n        ],\n        \"semantic_type\": \"\",\n        \"description\": \"\"\n      }\n    }\n  ]\n}"
            }
          },
          "metadata": {},
          "execution_count": 131
        }
      ],
      "source": [
        "# Dataset First Look\n",
        "\n",
        "df.head(10)"
      ]
    },
    {
      "cell_type": "markdown",
      "metadata": {
        "id": "7hBIi_osiCS2"
      },
      "source": [
        "### Dataset Rows & Columns count"
      ]
    },
    {
      "cell_type": "code",
      "execution_count": 132,
      "metadata": {
        "colab": {
          "base_uri": "https://localhost:8080/"
        },
        "id": "Kllu7SJgmLij",
        "outputId": "8adfe44e-5c1c-45d2-868c-5efb981fcb04"
      },
      "outputs": [
        {
          "output_type": "execute_result",
          "data": {
            "text/plain": [
              "(85907, 20)"
            ]
          },
          "metadata": {},
          "execution_count": 132
        }
      ],
      "source": [
        "# Dataset Rows & Columns count\n",
        "\n",
        "df.shape"
      ]
    },
    {
      "cell_type": "markdown",
      "metadata": {
        "id": "JlHwYmJAmNHm"
      },
      "source": [
        "### Dataset Information"
      ]
    },
    {
      "cell_type": "code",
      "execution_count": 133,
      "metadata": {
        "colab": {
          "base_uri": "https://localhost:8080/"
        },
        "id": "e9hRXRi6meOf",
        "outputId": "d361fbaf-6ddb-452c-8f1d-e7410859f1b3"
      },
      "outputs": [
        {
          "output_type": "stream",
          "name": "stdout",
          "text": [
            "<class 'pandas.core.frame.DataFrame'>\n",
            "RangeIndex: 85907 entries, 0 to 85906\n",
            "Data columns (total 20 columns):\n",
            " #   Column                   Non-Null Count  Dtype  \n",
            "---  ------                   --------------  -----  \n",
            " 0   Unique id                85907 non-null  object \n",
            " 1   channel_name             85907 non-null  object \n",
            " 2   category                 85907 non-null  object \n",
            " 3   Sub-category             85907 non-null  object \n",
            " 4   Customer Remarks         28742 non-null  object \n",
            " 5   Order_id                 67675 non-null  object \n",
            " 6   order_date_time          17214 non-null  object \n",
            " 7   Issue_reported at        85907 non-null  object \n",
            " 8   issue_responded          85907 non-null  object \n",
            " 9   Survey_response_Date     85907 non-null  object \n",
            " 10  Customer_City            17079 non-null  object \n",
            " 11  Product_category         17196 non-null  object \n",
            " 12  Item_price               17206 non-null  float64\n",
            " 13  connected_handling_time  242 non-null    float64\n",
            " 14  Agent_name               85907 non-null  object \n",
            " 15  Supervisor               85907 non-null  object \n",
            " 16  Manager                  85907 non-null  object \n",
            " 17  Tenure Bucket            85907 non-null  object \n",
            " 18  Agent Shift              85907 non-null  object \n",
            " 19  CSAT Score               85907 non-null  int64  \n",
            "dtypes: float64(2), int64(1), object(17)\n",
            "memory usage: 13.1+ MB\n"
          ]
        }
      ],
      "source": [
        "# Dataset Info\n",
        "\n",
        "df.info()"
      ]
    },
    {
      "cell_type": "markdown",
      "metadata": {
        "id": "35m5QtbWiB9F"
      },
      "source": [
        "#### Duplicate Values"
      ]
    },
    {
      "cell_type": "code",
      "execution_count": 134,
      "metadata": {
        "colab": {
          "base_uri": "https://localhost:8080/"
        },
        "id": "1sLdpKYkmox0",
        "outputId": "1430ecc9-9941-433e-8db4-5bfedb0d9018"
      },
      "outputs": [
        {
          "output_type": "execute_result",
          "data": {
            "text/plain": [
              "0"
            ]
          },
          "metadata": {},
          "execution_count": 134
        }
      ],
      "source": [
        "# Dataset Duplicate Value Count\n",
        "\n",
        "len(df[df.duplicated()])"
      ]
    },
    {
      "cell_type": "code",
      "source": [
        "# dropping identifier features\n",
        "\n",
        "df.drop(columns = ['Unique id', 'Order_id'], inplace = True)"
      ],
      "metadata": {
        "id": "naaJQdCH8QMi"
      },
      "execution_count": 135,
      "outputs": []
    },
    {
      "cell_type": "markdown",
      "metadata": {
        "id": "PoPl-ycgm1ru"
      },
      "source": [
        "#### Missing Values/Null Values"
      ]
    },
    {
      "cell_type": "code",
      "execution_count": 136,
      "metadata": {
        "colab": {
          "base_uri": "https://localhost:8080/",
          "height": 649
        },
        "id": "GgHWkxvamxVg",
        "outputId": "9761c5e4-e791-458b-b834-e1ee1ed1fd29"
      },
      "outputs": [
        {
          "output_type": "execute_result",
          "data": {
            "text/plain": [
              "channel_name                   0\n",
              "category                       0\n",
              "Sub-category                   0\n",
              "Customer Remarks           57165\n",
              "order_date_time            68693\n",
              "Issue_reported at              0\n",
              "issue_responded                0\n",
              "Survey_response_Date           0\n",
              "Customer_City              68828\n",
              "Product_category           68711\n",
              "Item_price                 68701\n",
              "connected_handling_time    85665\n",
              "Agent_name                     0\n",
              "Supervisor                     0\n",
              "Manager                        0\n",
              "Tenure Bucket                  0\n",
              "Agent Shift                    0\n",
              "CSAT Score                     0\n",
              "dtype: int64"
            ],
            "text/html": [
              "<div>\n",
              "<style scoped>\n",
              "    .dataframe tbody tr th:only-of-type {\n",
              "        vertical-align: middle;\n",
              "    }\n",
              "\n",
              "    .dataframe tbody tr th {\n",
              "        vertical-align: top;\n",
              "    }\n",
              "\n",
              "    .dataframe thead th {\n",
              "        text-align: right;\n",
              "    }\n",
              "</style>\n",
              "<table border=\"1\" class=\"dataframe\">\n",
              "  <thead>\n",
              "    <tr style=\"text-align: right;\">\n",
              "      <th></th>\n",
              "      <th>0</th>\n",
              "    </tr>\n",
              "  </thead>\n",
              "  <tbody>\n",
              "    <tr>\n",
              "      <th>channel_name</th>\n",
              "      <td>0</td>\n",
              "    </tr>\n",
              "    <tr>\n",
              "      <th>category</th>\n",
              "      <td>0</td>\n",
              "    </tr>\n",
              "    <tr>\n",
              "      <th>Sub-category</th>\n",
              "      <td>0</td>\n",
              "    </tr>\n",
              "    <tr>\n",
              "      <th>Customer Remarks</th>\n",
              "      <td>57165</td>\n",
              "    </tr>\n",
              "    <tr>\n",
              "      <th>order_date_time</th>\n",
              "      <td>68693</td>\n",
              "    </tr>\n",
              "    <tr>\n",
              "      <th>Issue_reported at</th>\n",
              "      <td>0</td>\n",
              "    </tr>\n",
              "    <tr>\n",
              "      <th>issue_responded</th>\n",
              "      <td>0</td>\n",
              "    </tr>\n",
              "    <tr>\n",
              "      <th>Survey_response_Date</th>\n",
              "      <td>0</td>\n",
              "    </tr>\n",
              "    <tr>\n",
              "      <th>Customer_City</th>\n",
              "      <td>68828</td>\n",
              "    </tr>\n",
              "    <tr>\n",
              "      <th>Product_category</th>\n",
              "      <td>68711</td>\n",
              "    </tr>\n",
              "    <tr>\n",
              "      <th>Item_price</th>\n",
              "      <td>68701</td>\n",
              "    </tr>\n",
              "    <tr>\n",
              "      <th>connected_handling_time</th>\n",
              "      <td>85665</td>\n",
              "    </tr>\n",
              "    <tr>\n",
              "      <th>Agent_name</th>\n",
              "      <td>0</td>\n",
              "    </tr>\n",
              "    <tr>\n",
              "      <th>Supervisor</th>\n",
              "      <td>0</td>\n",
              "    </tr>\n",
              "    <tr>\n",
              "      <th>Manager</th>\n",
              "      <td>0</td>\n",
              "    </tr>\n",
              "    <tr>\n",
              "      <th>Tenure Bucket</th>\n",
              "      <td>0</td>\n",
              "    </tr>\n",
              "    <tr>\n",
              "      <th>Agent Shift</th>\n",
              "      <td>0</td>\n",
              "    </tr>\n",
              "    <tr>\n",
              "      <th>CSAT Score</th>\n",
              "      <td>0</td>\n",
              "    </tr>\n",
              "  </tbody>\n",
              "</table>\n",
              "</div><br><label><b>dtype:</b> int64</label>"
            ]
          },
          "metadata": {},
          "execution_count": 136
        }
      ],
      "source": [
        "# Missing Values/Null Values Count\n",
        "\n",
        "df.isnull().sum()"
      ]
    },
    {
      "cell_type": "code",
      "source": [
        "# percentage of missing values\n",
        "\n",
        "missing_percent = round(df.isnull().sum()/len(df.index)*100, 2)\n",
        "missing_percent"
      ],
      "metadata": {
        "colab": {
          "base_uri": "https://localhost:8080/",
          "height": 649
        },
        "id": "nQhFxdNb6Jjz",
        "outputId": "92332143-ae58-4adb-b9aa-c47073718357"
      },
      "execution_count": 137,
      "outputs": [
        {
          "output_type": "execute_result",
          "data": {
            "text/plain": [
              "channel_name                0.00\n",
              "category                    0.00\n",
              "Sub-category                0.00\n",
              "Customer Remarks           66.54\n",
              "order_date_time            79.96\n",
              "Issue_reported at           0.00\n",
              "issue_responded             0.00\n",
              "Survey_response_Date        0.00\n",
              "Customer_City              80.12\n",
              "Product_category           79.98\n",
              "Item_price                 79.97\n",
              "connected_handling_time    99.72\n",
              "Agent_name                  0.00\n",
              "Supervisor                  0.00\n",
              "Manager                     0.00\n",
              "Tenure Bucket               0.00\n",
              "Agent Shift                 0.00\n",
              "CSAT Score                  0.00\n",
              "dtype: float64"
            ],
            "text/html": [
              "<div>\n",
              "<style scoped>\n",
              "    .dataframe tbody tr th:only-of-type {\n",
              "        vertical-align: middle;\n",
              "    }\n",
              "\n",
              "    .dataframe tbody tr th {\n",
              "        vertical-align: top;\n",
              "    }\n",
              "\n",
              "    .dataframe thead th {\n",
              "        text-align: right;\n",
              "    }\n",
              "</style>\n",
              "<table border=\"1\" class=\"dataframe\">\n",
              "  <thead>\n",
              "    <tr style=\"text-align: right;\">\n",
              "      <th></th>\n",
              "      <th>0</th>\n",
              "    </tr>\n",
              "  </thead>\n",
              "  <tbody>\n",
              "    <tr>\n",
              "      <th>channel_name</th>\n",
              "      <td>0.00</td>\n",
              "    </tr>\n",
              "    <tr>\n",
              "      <th>category</th>\n",
              "      <td>0.00</td>\n",
              "    </tr>\n",
              "    <tr>\n",
              "      <th>Sub-category</th>\n",
              "      <td>0.00</td>\n",
              "    </tr>\n",
              "    <tr>\n",
              "      <th>Customer Remarks</th>\n",
              "      <td>66.54</td>\n",
              "    </tr>\n",
              "    <tr>\n",
              "      <th>order_date_time</th>\n",
              "      <td>79.96</td>\n",
              "    </tr>\n",
              "    <tr>\n",
              "      <th>Issue_reported at</th>\n",
              "      <td>0.00</td>\n",
              "    </tr>\n",
              "    <tr>\n",
              "      <th>issue_responded</th>\n",
              "      <td>0.00</td>\n",
              "    </tr>\n",
              "    <tr>\n",
              "      <th>Survey_response_Date</th>\n",
              "      <td>0.00</td>\n",
              "    </tr>\n",
              "    <tr>\n",
              "      <th>Customer_City</th>\n",
              "      <td>80.12</td>\n",
              "    </tr>\n",
              "    <tr>\n",
              "      <th>Product_category</th>\n",
              "      <td>79.98</td>\n",
              "    </tr>\n",
              "    <tr>\n",
              "      <th>Item_price</th>\n",
              "      <td>79.97</td>\n",
              "    </tr>\n",
              "    <tr>\n",
              "      <th>connected_handling_time</th>\n",
              "      <td>99.72</td>\n",
              "    </tr>\n",
              "    <tr>\n",
              "      <th>Agent_name</th>\n",
              "      <td>0.00</td>\n",
              "    </tr>\n",
              "    <tr>\n",
              "      <th>Supervisor</th>\n",
              "      <td>0.00</td>\n",
              "    </tr>\n",
              "    <tr>\n",
              "      <th>Manager</th>\n",
              "      <td>0.00</td>\n",
              "    </tr>\n",
              "    <tr>\n",
              "      <th>Tenure Bucket</th>\n",
              "      <td>0.00</td>\n",
              "    </tr>\n",
              "    <tr>\n",
              "      <th>Agent Shift</th>\n",
              "      <td>0.00</td>\n",
              "    </tr>\n",
              "    <tr>\n",
              "      <th>CSAT Score</th>\n",
              "      <td>0.00</td>\n",
              "    </tr>\n",
              "  </tbody>\n",
              "</table>\n",
              "</div><br><label><b>dtype:</b> float64</label>"
            ]
          },
          "metadata": {},
          "execution_count": 137
        }
      ]
    },
    {
      "cell_type": "code",
      "source": [
        "# Deleting columns with more than 70% missing values\n",
        "\n",
        "cols_to_drop = missing_percent[missing_percent>70].index\n",
        "df = df.drop(columns = cols_to_drop)"
      ],
      "metadata": {
        "id": "E6aSTM7R6voi"
      },
      "execution_count": 138,
      "outputs": []
    },
    {
      "cell_type": "code",
      "source": [
        "df.info()"
      ],
      "metadata": {
        "colab": {
          "base_uri": "https://localhost:8080/"
        },
        "id": "7vtt7KZg7pTT",
        "outputId": "f983a22d-84ab-4d01-cb68-63242154a2b1"
      },
      "execution_count": 139,
      "outputs": [
        {
          "output_type": "stream",
          "name": "stdout",
          "text": [
            "<class 'pandas.core.frame.DataFrame'>\n",
            "RangeIndex: 85907 entries, 0 to 85906\n",
            "Data columns (total 13 columns):\n",
            " #   Column                Non-Null Count  Dtype \n",
            "---  ------                --------------  ----- \n",
            " 0   channel_name          85907 non-null  object\n",
            " 1   category              85907 non-null  object\n",
            " 2   Sub-category          85907 non-null  object\n",
            " 3   Customer Remarks      28742 non-null  object\n",
            " 4   Issue_reported at     85907 non-null  object\n",
            " 5   issue_responded       85907 non-null  object\n",
            " 6   Survey_response_Date  85907 non-null  object\n",
            " 7   Agent_name            85907 non-null  object\n",
            " 8   Supervisor            85907 non-null  object\n",
            " 9   Manager               85907 non-null  object\n",
            " 10  Tenure Bucket         85907 non-null  object\n",
            " 11  Agent Shift           85907 non-null  object\n",
            " 12  CSAT Score            85907 non-null  int64 \n",
            "dtypes: int64(1), object(12)\n",
            "memory usage: 8.5+ MB\n"
          ]
        }
      ]
    },
    {
      "cell_type": "code",
      "source": [
        "# replace nan values in remarks with \"no remarks\"\n",
        "\n",
        "df['Customer Remarks'] = df['Customer Remarks'].fillna('no remarks')"
      ],
      "metadata": {
        "id": "kLHLkvLy7Ito"
      },
      "execution_count": 140,
      "outputs": []
    },
    {
      "cell_type": "code",
      "source": [
        "df.isna().sum()"
      ],
      "metadata": {
        "colab": {
          "base_uri": "https://localhost:8080/",
          "height": 492
        },
        "id": "GXlE8XpK8fIo",
        "outputId": "4467b927-d43f-4497-c774-7f9141b508a7"
      },
      "execution_count": 141,
      "outputs": [
        {
          "output_type": "execute_result",
          "data": {
            "text/plain": [
              "channel_name            0\n",
              "category                0\n",
              "Sub-category            0\n",
              "Customer Remarks        0\n",
              "Issue_reported at       0\n",
              "issue_responded         0\n",
              "Survey_response_Date    0\n",
              "Agent_name              0\n",
              "Supervisor              0\n",
              "Manager                 0\n",
              "Tenure Bucket           0\n",
              "Agent Shift             0\n",
              "CSAT Score              0\n",
              "dtype: int64"
            ],
            "text/html": [
              "<div>\n",
              "<style scoped>\n",
              "    .dataframe tbody tr th:only-of-type {\n",
              "        vertical-align: middle;\n",
              "    }\n",
              "\n",
              "    .dataframe tbody tr th {\n",
              "        vertical-align: top;\n",
              "    }\n",
              "\n",
              "    .dataframe thead th {\n",
              "        text-align: right;\n",
              "    }\n",
              "</style>\n",
              "<table border=\"1\" class=\"dataframe\">\n",
              "  <thead>\n",
              "    <tr style=\"text-align: right;\">\n",
              "      <th></th>\n",
              "      <th>0</th>\n",
              "    </tr>\n",
              "  </thead>\n",
              "  <tbody>\n",
              "    <tr>\n",
              "      <th>channel_name</th>\n",
              "      <td>0</td>\n",
              "    </tr>\n",
              "    <tr>\n",
              "      <th>category</th>\n",
              "      <td>0</td>\n",
              "    </tr>\n",
              "    <tr>\n",
              "      <th>Sub-category</th>\n",
              "      <td>0</td>\n",
              "    </tr>\n",
              "    <tr>\n",
              "      <th>Customer Remarks</th>\n",
              "      <td>0</td>\n",
              "    </tr>\n",
              "    <tr>\n",
              "      <th>Issue_reported at</th>\n",
              "      <td>0</td>\n",
              "    </tr>\n",
              "    <tr>\n",
              "      <th>issue_responded</th>\n",
              "      <td>0</td>\n",
              "    </tr>\n",
              "    <tr>\n",
              "      <th>Survey_response_Date</th>\n",
              "      <td>0</td>\n",
              "    </tr>\n",
              "    <tr>\n",
              "      <th>Agent_name</th>\n",
              "      <td>0</td>\n",
              "    </tr>\n",
              "    <tr>\n",
              "      <th>Supervisor</th>\n",
              "      <td>0</td>\n",
              "    </tr>\n",
              "    <tr>\n",
              "      <th>Manager</th>\n",
              "      <td>0</td>\n",
              "    </tr>\n",
              "    <tr>\n",
              "      <th>Tenure Bucket</th>\n",
              "      <td>0</td>\n",
              "    </tr>\n",
              "    <tr>\n",
              "      <th>Agent Shift</th>\n",
              "      <td>0</td>\n",
              "    </tr>\n",
              "    <tr>\n",
              "      <th>CSAT Score</th>\n",
              "      <td>0</td>\n",
              "    </tr>\n",
              "  </tbody>\n",
              "</table>\n",
              "</div><br><label><b>dtype:</b> int64</label>"
            ]
          },
          "metadata": {},
          "execution_count": 141
        }
      ]
    },
    {
      "cell_type": "markdown",
      "metadata": {
        "id": "nA9Y7ga8ng1Z"
      },
      "source": [
        "## ***2. Understanding Variables***"
      ]
    },
    {
      "cell_type": "markdown",
      "metadata": {
        "id": "PBTbrJXOngz2"
      },
      "source": [
        "### Variables Description"
      ]
    },
    {
      "cell_type": "markdown",
      "source": [
        "#### Definitions of the variables:"
      ],
      "metadata": {
        "id": "RcCW9m_B5ZLY"
      }
    },
    {
      "cell_type": "markdown",
      "source": [
        "1. **travelCode** : A unique numeric code for each booking.\n",
        "\n",
        "2. **userCode**: A unique numeric code for individual users.\n",
        "\n",
        "3. **from** : The origin city of the flight.\n",
        "\n",
        "4. **to** : the destination city of the flight.\n",
        "\n",
        "5. **flightType**: The type of flight .(Economy/First class/ Premium)\n",
        "\n",
        "6. **price** : The flight fare for the trip. (Target variable)\n",
        "\n",
        "7. **distance** : The distance covered by flight in the trip.\n",
        "\n",
        "8. **time** : the time taken by the flight to complete the trip\n",
        "\n",
        "9. **agency** : The flight agency responsible for the trip.\n",
        "\n",
        "10. **date** : The date of the trip."
      ],
      "metadata": {
        "id": "ld43EYaX5jlJ"
      }
    },
    {
      "cell_type": "code",
      "execution_count": 142,
      "metadata": {
        "colab": {
          "base_uri": "https://localhost:8080/",
          "height": 0
        },
        "id": "DnOaZdaE5Q5t",
        "outputId": "abdeb7e5-6eb6-4340-c55a-8434ad156cac"
      },
      "outputs": [
        {
          "output_type": "execute_result",
          "data": {
            "text/plain": [
              "         CSAT Score\n",
              "count  85907.000000\n",
              "mean       4.242157\n",
              "std        1.378903\n",
              "min        1.000000\n",
              "25%        4.000000\n",
              "50%        5.000000\n",
              "75%        5.000000\n",
              "max        5.000000"
            ],
            "text/html": [
              "\n",
              "  <div id=\"df-f220eb05-5eae-4f50-b844-798f52b4432b\" class=\"colab-df-container\">\n",
              "    <div>\n",
              "<style scoped>\n",
              "    .dataframe tbody tr th:only-of-type {\n",
              "        vertical-align: middle;\n",
              "    }\n",
              "\n",
              "    .dataframe tbody tr th {\n",
              "        vertical-align: top;\n",
              "    }\n",
              "\n",
              "    .dataframe thead th {\n",
              "        text-align: right;\n",
              "    }\n",
              "</style>\n",
              "<table border=\"1\" class=\"dataframe\">\n",
              "  <thead>\n",
              "    <tr style=\"text-align: right;\">\n",
              "      <th></th>\n",
              "      <th>CSAT Score</th>\n",
              "    </tr>\n",
              "  </thead>\n",
              "  <tbody>\n",
              "    <tr>\n",
              "      <th>count</th>\n",
              "      <td>85907.000000</td>\n",
              "    </tr>\n",
              "    <tr>\n",
              "      <th>mean</th>\n",
              "      <td>4.242157</td>\n",
              "    </tr>\n",
              "    <tr>\n",
              "      <th>std</th>\n",
              "      <td>1.378903</td>\n",
              "    </tr>\n",
              "    <tr>\n",
              "      <th>min</th>\n",
              "      <td>1.000000</td>\n",
              "    </tr>\n",
              "    <tr>\n",
              "      <th>25%</th>\n",
              "      <td>4.000000</td>\n",
              "    </tr>\n",
              "    <tr>\n",
              "      <th>50%</th>\n",
              "      <td>5.000000</td>\n",
              "    </tr>\n",
              "    <tr>\n",
              "      <th>75%</th>\n",
              "      <td>5.000000</td>\n",
              "    </tr>\n",
              "    <tr>\n",
              "      <th>max</th>\n",
              "      <td>5.000000</td>\n",
              "    </tr>\n",
              "  </tbody>\n",
              "</table>\n",
              "</div>\n",
              "    <div class=\"colab-df-buttons\">\n",
              "\n",
              "  <div class=\"colab-df-container\">\n",
              "    <button class=\"colab-df-convert\" onclick=\"convertToInteractive('df-f220eb05-5eae-4f50-b844-798f52b4432b')\"\n",
              "            title=\"Convert this dataframe to an interactive table.\"\n",
              "            style=\"display:none;\">\n",
              "\n",
              "  <svg xmlns=\"http://www.w3.org/2000/svg\" height=\"24px\" viewBox=\"0 -960 960 960\">\n",
              "    <path d=\"M120-120v-720h720v720H120Zm60-500h600v-160H180v160Zm220 220h160v-160H400v160Zm0 220h160v-160H400v160ZM180-400h160v-160H180v160Zm440 0h160v-160H620v160ZM180-180h160v-160H180v160Zm440 0h160v-160H620v160Z\"/>\n",
              "  </svg>\n",
              "    </button>\n",
              "\n",
              "  <style>\n",
              "    .colab-df-container {\n",
              "      display:flex;\n",
              "      gap: 12px;\n",
              "    }\n",
              "\n",
              "    .colab-df-convert {\n",
              "      background-color: #E8F0FE;\n",
              "      border: none;\n",
              "      border-radius: 50%;\n",
              "      cursor: pointer;\n",
              "      display: none;\n",
              "      fill: #1967D2;\n",
              "      height: 32px;\n",
              "      padding: 0 0 0 0;\n",
              "      width: 32px;\n",
              "    }\n",
              "\n",
              "    .colab-df-convert:hover {\n",
              "      background-color: #E2EBFA;\n",
              "      box-shadow: 0px 1px 2px rgba(60, 64, 67, 0.3), 0px 1px 3px 1px rgba(60, 64, 67, 0.15);\n",
              "      fill: #174EA6;\n",
              "    }\n",
              "\n",
              "    .colab-df-buttons div {\n",
              "      margin-bottom: 4px;\n",
              "    }\n",
              "\n",
              "    [theme=dark] .colab-df-convert {\n",
              "      background-color: #3B4455;\n",
              "      fill: #D2E3FC;\n",
              "    }\n",
              "\n",
              "    [theme=dark] .colab-df-convert:hover {\n",
              "      background-color: #434B5C;\n",
              "      box-shadow: 0px 1px 3px 1px rgba(0, 0, 0, 0.15);\n",
              "      filter: drop-shadow(0px 1px 2px rgba(0, 0, 0, 0.3));\n",
              "      fill: #FFFFFF;\n",
              "    }\n",
              "  </style>\n",
              "\n",
              "    <script>\n",
              "      const buttonEl =\n",
              "        document.querySelector('#df-f220eb05-5eae-4f50-b844-798f52b4432b button.colab-df-convert');\n",
              "      buttonEl.style.display =\n",
              "        google.colab.kernel.accessAllowed ? 'block' : 'none';\n",
              "\n",
              "      async function convertToInteractive(key) {\n",
              "        const element = document.querySelector('#df-f220eb05-5eae-4f50-b844-798f52b4432b');\n",
              "        const dataTable =\n",
              "          await google.colab.kernel.invokeFunction('convertToInteractive',\n",
              "                                                    [key], {});\n",
              "        if (!dataTable) return;\n",
              "\n",
              "        const docLinkHtml = 'Like what you see? Visit the ' +\n",
              "          '<a target=\"_blank\" href=https://colab.research.google.com/notebooks/data_table.ipynb>data table notebook</a>'\n",
              "          + ' to learn more about interactive tables.';\n",
              "        element.innerHTML = '';\n",
              "        dataTable['output_type'] = 'display_data';\n",
              "        await google.colab.output.renderOutput(dataTable, element);\n",
              "        const docLink = document.createElement('div');\n",
              "        docLink.innerHTML = docLinkHtml;\n",
              "        element.appendChild(docLink);\n",
              "      }\n",
              "    </script>\n",
              "  </div>\n",
              "\n",
              "\n",
              "    <div id=\"df-b8c06bcd-8bf7-4515-99dc-151cb531ddf2\">\n",
              "      <button class=\"colab-df-quickchart\" onclick=\"quickchart('df-b8c06bcd-8bf7-4515-99dc-151cb531ddf2')\"\n",
              "                title=\"Suggest charts\"\n",
              "                style=\"display:none;\">\n",
              "\n",
              "<svg xmlns=\"http://www.w3.org/2000/svg\" height=\"24px\"viewBox=\"0 0 24 24\"\n",
              "     width=\"24px\">\n",
              "    <g>\n",
              "        <path d=\"M19 3H5c-1.1 0-2 .9-2 2v14c0 1.1.9 2 2 2h14c1.1 0 2-.9 2-2V5c0-1.1-.9-2-2-2zM9 17H7v-7h2v7zm4 0h-2V7h2v10zm4 0h-2v-4h2v4z\"/>\n",
              "    </g>\n",
              "</svg>\n",
              "      </button>\n",
              "\n",
              "<style>\n",
              "  .colab-df-quickchart {\n",
              "      --bg-color: #E8F0FE;\n",
              "      --fill-color: #1967D2;\n",
              "      --hover-bg-color: #E2EBFA;\n",
              "      --hover-fill-color: #174EA6;\n",
              "      --disabled-fill-color: #AAA;\n",
              "      --disabled-bg-color: #DDD;\n",
              "  }\n",
              "\n",
              "  [theme=dark] .colab-df-quickchart {\n",
              "      --bg-color: #3B4455;\n",
              "      --fill-color: #D2E3FC;\n",
              "      --hover-bg-color: #434B5C;\n",
              "      --hover-fill-color: #FFFFFF;\n",
              "      --disabled-bg-color: #3B4455;\n",
              "      --disabled-fill-color: #666;\n",
              "  }\n",
              "\n",
              "  .colab-df-quickchart {\n",
              "    background-color: var(--bg-color);\n",
              "    border: none;\n",
              "    border-radius: 50%;\n",
              "    cursor: pointer;\n",
              "    display: none;\n",
              "    fill: var(--fill-color);\n",
              "    height: 32px;\n",
              "    padding: 0;\n",
              "    width: 32px;\n",
              "  }\n",
              "\n",
              "  .colab-df-quickchart:hover {\n",
              "    background-color: var(--hover-bg-color);\n",
              "    box-shadow: 0 1px 2px rgba(60, 64, 67, 0.3), 0 1px 3px 1px rgba(60, 64, 67, 0.15);\n",
              "    fill: var(--button-hover-fill-color);\n",
              "  }\n",
              "\n",
              "  .colab-df-quickchart-complete:disabled,\n",
              "  .colab-df-quickchart-complete:disabled:hover {\n",
              "    background-color: var(--disabled-bg-color);\n",
              "    fill: var(--disabled-fill-color);\n",
              "    box-shadow: none;\n",
              "  }\n",
              "\n",
              "  .colab-df-spinner {\n",
              "    border: 2px solid var(--fill-color);\n",
              "    border-color: transparent;\n",
              "    border-bottom-color: var(--fill-color);\n",
              "    animation:\n",
              "      spin 1s steps(1) infinite;\n",
              "  }\n",
              "\n",
              "  @keyframes spin {\n",
              "    0% {\n",
              "      border-color: transparent;\n",
              "      border-bottom-color: var(--fill-color);\n",
              "      border-left-color: var(--fill-color);\n",
              "    }\n",
              "    20% {\n",
              "      border-color: transparent;\n",
              "      border-left-color: var(--fill-color);\n",
              "      border-top-color: var(--fill-color);\n",
              "    }\n",
              "    30% {\n",
              "      border-color: transparent;\n",
              "      border-left-color: var(--fill-color);\n",
              "      border-top-color: var(--fill-color);\n",
              "      border-right-color: var(--fill-color);\n",
              "    }\n",
              "    40% {\n",
              "      border-color: transparent;\n",
              "      border-right-color: var(--fill-color);\n",
              "      border-top-color: var(--fill-color);\n",
              "    }\n",
              "    60% {\n",
              "      border-color: transparent;\n",
              "      border-right-color: var(--fill-color);\n",
              "    }\n",
              "    80% {\n",
              "      border-color: transparent;\n",
              "      border-right-color: var(--fill-color);\n",
              "      border-bottom-color: var(--fill-color);\n",
              "    }\n",
              "    90% {\n",
              "      border-color: transparent;\n",
              "      border-bottom-color: var(--fill-color);\n",
              "    }\n",
              "  }\n",
              "</style>\n",
              "\n",
              "      <script>\n",
              "        async function quickchart(key) {\n",
              "          const quickchartButtonEl =\n",
              "            document.querySelector('#' + key + ' button');\n",
              "          quickchartButtonEl.disabled = true;  // To prevent multiple clicks.\n",
              "          quickchartButtonEl.classList.add('colab-df-spinner');\n",
              "          try {\n",
              "            const charts = await google.colab.kernel.invokeFunction(\n",
              "                'suggestCharts', [key], {});\n",
              "          } catch (error) {\n",
              "            console.error('Error during call to suggestCharts:', error);\n",
              "          }\n",
              "          quickchartButtonEl.classList.remove('colab-df-spinner');\n",
              "          quickchartButtonEl.classList.add('colab-df-quickchart-complete');\n",
              "        }\n",
              "        (() => {\n",
              "          let quickchartButtonEl =\n",
              "            document.querySelector('#df-b8c06bcd-8bf7-4515-99dc-151cb531ddf2 button');\n",
              "          quickchartButtonEl.style.display =\n",
              "            google.colab.kernel.accessAllowed ? 'block' : 'none';\n",
              "        })();\n",
              "      </script>\n",
              "    </div>\n",
              "\n",
              "    </div>\n",
              "  </div>\n"
            ],
            "application/vnd.google.colaboratory.intrinsic+json": {
              "type": "dataframe",
              "summary": "{\n  \"name\": \"df\",\n  \"rows\": 8,\n  \"fields\": [\n    {\n      \"column\": \"CSAT Score\",\n      \"properties\": {\n        \"dtype\": \"number\",\n        \"std\": 30371.417109350994,\n        \"min\": 1.0,\n        \"max\": 85907.0,\n        \"num_unique_values\": 6,\n        \"samples\": [\n          85907.0,\n          4.242157216524847,\n          5.0\n        ],\n        \"semantic_type\": \"\",\n        \"description\": \"\"\n      }\n    }\n  ]\n}"
            }
          },
          "metadata": {},
          "execution_count": 142
        }
      ],
      "source": [
        "# Understanding the basic statistics of the numeric columns\n",
        "\n",
        "df.describe()"
      ]
    },
    {
      "cell_type": "markdown",
      "metadata": {
        "id": "u3PMJOP6ngxN"
      },
      "source": [
        "### Checking Unique Values for each variable."
      ]
    },
    {
      "cell_type": "code",
      "execution_count": 143,
      "metadata": {
        "colab": {
          "base_uri": "https://localhost:8080/"
        },
        "id": "zms12Yq5n-jE",
        "outputId": "bde24fc0-b3b0-4a70-be08-593b25a9b8f1"
      },
      "outputs": [
        {
          "output_type": "stream",
          "name": "stdout",
          "text": [
            " channel_name : 3\n",
            " category : 12\n",
            " Sub-category : 57\n",
            " Customer Remarks : 18232\n",
            " Issue_reported at : 30923\n",
            " issue_responded : 30262\n",
            " Survey_response_Date : 31\n",
            " Agent_name : 1371\n",
            " Supervisor : 40\n",
            " Manager : 6\n",
            " Tenure Bucket : 5\n",
            " Agent Shift : 5\n",
            " CSAT Score : 5\n"
          ]
        }
      ],
      "source": [
        "# Check Unique Values for each variable.\n",
        "\n",
        "for i in df.columns:\n",
        "  print(f' {i} : {df[i].nunique()}')"
      ]
    },
    {
      "cell_type": "code",
      "source": [
        "df.info()"
      ],
      "metadata": {
        "colab": {
          "base_uri": "https://localhost:8080/"
        },
        "id": "ErecoTIb8TUZ",
        "outputId": "408283b3-e839-4a85-ff9c-eba214197818"
      },
      "execution_count": 144,
      "outputs": [
        {
          "output_type": "stream",
          "name": "stdout",
          "text": [
            "<class 'pandas.core.frame.DataFrame'>\n",
            "RangeIndex: 85907 entries, 0 to 85906\n",
            "Data columns (total 13 columns):\n",
            " #   Column                Non-Null Count  Dtype \n",
            "---  ------                --------------  ----- \n",
            " 0   channel_name          85907 non-null  object\n",
            " 1   category              85907 non-null  object\n",
            " 2   Sub-category          85907 non-null  object\n",
            " 3   Customer Remarks      85907 non-null  object\n",
            " 4   Issue_reported at     85907 non-null  object\n",
            " 5   issue_responded       85907 non-null  object\n",
            " 6   Survey_response_Date  85907 non-null  object\n",
            " 7   Agent_name            85907 non-null  object\n",
            " 8   Supervisor            85907 non-null  object\n",
            " 9   Manager               85907 non-null  object\n",
            " 10  Tenure Bucket         85907 non-null  object\n",
            " 11  Agent Shift           85907 non-null  object\n",
            " 12  CSAT Score            85907 non-null  int64 \n",
            "dtypes: int64(1), object(12)\n",
            "memory usage: 8.5+ MB\n"
          ]
        }
      ]
    },
    {
      "cell_type": "code",
      "source": [
        "date_time_features = ['Issue_reported at', 'issue_responded', 'Survey_response_Date']\n",
        "# converting date time features to datetime type\n",
        "\n",
        "for i in date_time_features:\n",
        "  df[i] = pd.to_datetime(df[i], format = \"mixed\")"
      ],
      "metadata": {
        "id": "w2g-e6jx9Bo7"
      },
      "execution_count": 145,
      "outputs": []
    },
    {
      "cell_type": "code",
      "source": [
        "# extracting month, year and hour , date and is weekend from issue date\n",
        "\n",
        "df['month'] = df['Issue_reported at'].dt.month\n",
        "df['year'] = df['Issue_reported at'].dt.year\n",
        "df['day'] = df['Issue_reported at'].dt.day\n",
        "df['hour'] = df['Issue_reported at'].dt.hour\n",
        "df['is_weekend']=np.where(df['Issue_reported at'].dt.dayofweek.isin([5,6]),1,0)\n"
      ],
      "metadata": {
        "id": "8EO0xLEG_Wqq"
      },
      "execution_count": 146,
      "outputs": []
    },
    {
      "cell_type": "code",
      "source": [
        "# creating a response time feature\n",
        "\n",
        "df['response_time'] = (df['issue_responded'] - df['Issue_reported at']).dt.total_seconds()"
      ],
      "metadata": {
        "id": "2jPei2oY-gNz"
      },
      "execution_count": 147,
      "outputs": []
    },
    {
      "cell_type": "code",
      "source": [
        "# extracting features from survey_date\n",
        "df['survey_month'] = df['Survey_response_Date'].dt.month\n",
        "df['survey_year'] = df['Survey_response_Date'].dt.year\n",
        "df['survey_date'] = df['Survey_response_Date'].dt.day\n"
      ],
      "metadata": {
        "id": "yetqcMbw_wqK"
      },
      "execution_count": 148,
      "outputs": []
    },
    {
      "cell_type": "code",
      "source": [
        "# Finding no. of unique values\n",
        "print(f'no.of years : {df[\"year\"].nunique()}')\n",
        "print(f'no.of months : {df[\"month\"].nunique()}')\n",
        "print(f'no.of days : {df[\"day\"].nunique()}')\n",
        "print(f'no.of hours : {df[\"hour\"].nunique()}')\n",
        "print(f'no.of survey months : {df[\"survey_month\"].nunique()}')\n",
        "print(f'no.of survey year : {df[\"survey_year\"].nunique()}')\n",
        "print(f'no.of survey days : {df[\"survey_date\"].nunique()}')"
      ],
      "metadata": {
        "colab": {
          "base_uri": "https://localhost:8080/"
        },
        "id": "89A6b3eYAQEB",
        "outputId": "2f918800-84dd-46a6-c93c-ad44f51e5d5d"
      },
      "execution_count": 149,
      "outputs": [
        {
          "output_type": "stream",
          "name": "stdout",
          "text": [
            "no.of years : 1\n",
            "no.of months : 12\n",
            "no.of days : 20\n",
            "no.of hours : 24\n",
            "no.of survey months : 1\n",
            "no.of survey year : 1\n",
            "no.of survey days : 31\n"
          ]
        }
      ]
    },
    {
      "cell_type": "code",
      "source": [
        "# removing variables which have one one value, year, survey_month, survey year and original datetime features\n",
        "\n",
        "df.drop(columns = ['year', 'survey_month', 'survey_year','Issue_reported at','issue_responded','Survey_response_Date'], inplace = True)"
      ],
      "metadata": {
        "id": "cLkxO448BT65"
      },
      "execution_count": 151,
      "outputs": []
    },
    {
      "cell_type": "code",
      "source": [
        "df.info()"
      ],
      "metadata": {
        "colab": {
          "base_uri": "https://localhost:8080/"
        },
        "id": "J5TsZ4LOBeUp",
        "outputId": "8f3a6a18-f182-4b8c-8f6b-60d4ee13a9e4"
      },
      "execution_count": 152,
      "outputs": [
        {
          "output_type": "stream",
          "name": "stdout",
          "text": [
            "<class 'pandas.core.frame.DataFrame'>\n",
            "RangeIndex: 85907 entries, 0 to 85906\n",
            "Data columns (total 16 columns):\n",
            " #   Column            Non-Null Count  Dtype  \n",
            "---  ------            --------------  -----  \n",
            " 0   channel_name      85907 non-null  object \n",
            " 1   category          85907 non-null  object \n",
            " 2   Sub-category      85907 non-null  object \n",
            " 3   Customer Remarks  85907 non-null  object \n",
            " 4   Agent_name        85907 non-null  object \n",
            " 5   Supervisor        85907 non-null  object \n",
            " 6   Manager           85907 non-null  object \n",
            " 7   Tenure Bucket     85907 non-null  object \n",
            " 8   Agent Shift       85907 non-null  object \n",
            " 9   CSAT Score        85907 non-null  int64  \n",
            " 10  month             85907 non-null  int32  \n",
            " 11  day               85907 non-null  int32  \n",
            " 12  hour              85907 non-null  int32  \n",
            " 13  is_weekend        85907 non-null  int64  \n",
            " 14  response_time     85907 non-null  float64\n",
            " 15  survey_date       85907 non-null  int32  \n",
            "dtypes: float64(1), int32(4), int64(2), object(9)\n",
            "memory usage: 9.2+ MB\n"
          ]
        }
      ]
    },
    {
      "cell_type": "code",
      "source": [
        "# cyclical encoding month, date,  hour,survey_date\n",
        "\n",
        "df['month_sin'] = np.sin(2*np.pi*df['month']/12)\n",
        "df['month_cos'] = np.cos(2*np.pi*df['month']/12)\n",
        "df['day_sin'] = np.sin(2*np.pi*df['day']/31)\n",
        "df['day_cos'] = np.cos(2*np.pi*df['day']/31)\n",
        "df['hour_sin'] = np.sin(2*np.pi*df['hour']/24)\n",
        "df['hour_cos'] = np.cos(2*np.pi*df['hour']/24)\n",
        "df['survey_date_sin'] = np.sin(2*np.pi*df['survey_date']/31)\n",
        "df['survey_date_cos'] = np.cos(2*np.pi*df['survey_date']/31)"
      ],
      "metadata": {
        "id": "KgWcI8dlG776"
      },
      "execution_count": 153,
      "outputs": []
    },
    {
      "cell_type": "code",
      "source": [
        "# Ordinal encoding tenure bucket\n",
        "\n",
        "map = {'On Job Training':0, '0-30':1,'31-60':2, '61-90':3, '>90':4 }\n",
        "df['tenure_map'] = df['Tenure Bucket'].map(map)"
      ],
      "metadata": {
        "id": "1dS27DzUF2gZ"
      },
      "execution_count": 154,
      "outputs": []
    },
    {
      "cell_type": "code",
      "source": [
        "df['is_weekend'] = pd.to_numeric(df['is_weekend'])"
      ],
      "metadata": {
        "id": "33GzD9zbTHdL"
      },
      "execution_count": 168,
      "outputs": []
    },
    {
      "cell_type": "code",
      "source": [
        "train_df, val_df = train_test_split(df, test_size=0.2, random_state=42)"
      ],
      "metadata": {
        "id": "BoRWsUTnPeY6"
      },
      "execution_count": 156,
      "outputs": []
    },
    {
      "cell_type": "code",
      "source": [
        "y_train = train_df['CSAT Score']-1\n",
        "y_val = val_df['CSAT Score']-1\n",
        "\n",
        "y_train = y_train.astype(int)\n",
        "y_val = y_val.astype(int)"
      ],
      "metadata": {
        "id": "qVfZZuklZNt6"
      },
      "execution_count": 194,
      "outputs": []
    },
    {
      "cell_type": "code",
      "source": [
        "# OH encoding cat variables\n",
        "\n",
        "cat_features = ['channel_name','category','Manager', 'Agent Shift']\n",
        "oh_train = pd.get_dummies(train_df[cat_features])\n",
        "oh_val = pd.get_dummies(val_df[cat_features])\n",
        "oh_train, oh_val = oh_train.align(oh_val,join='left', axis=1, fill_value = 0)"
      ],
      "metadata": {
        "id": "cgMxzzMdFS0q"
      },
      "execution_count": 159,
      "outputs": []
    },
    {
      "cell_type": "code",
      "source": [
        "# label encoding agent, supervisor, subcategory for later embedding\n",
        "\n",
        "from sklearn.preprocessing import LabelEncoder\n",
        "\n",
        "le_agent = LabelEncoder()\n",
        "le_supervisor = LabelEncoder()\n",
        "le_subcategory = LabelEncoder()\n",
        "\n",
        "agent_ids_train = le_agent.fit_transform(train_df['Agent_name'])\n",
        "agent_ids_val = le_agent.transform(val_df['Agent_name'])\n",
        "\n",
        "supervisor_ids_train = le_supervisor.fit_transform(train_df['Supervisor'])\n",
        "supervisor_ids_val = le_supervisor.transform(val_df['Supervisor'])\n",
        "\n",
        "subcategory_ids_train = le_subcategory.fit_transform(train_df['Sub-category'])\n",
        "subcategory_ids_val = le_subcategory.transform(val_df['Sub-category'])"
      ],
      "metadata": {
        "id": "DXTePOZNRkda"
      },
      "execution_count": 163,
      "outputs": []
    },
    {
      "cell_type": "code",
      "source": [
        "# standard scaling response time\n",
        "\n",
        "scaler = StandardScaler()\n",
        "response_time_train = scaler.fit_transform(train_df[['response_time']])\n",
        "response_time_val = scaler.transform(val_df[['response_time']])"
      ],
      "metadata": {
        "id": "EpUuZOXaSZGi"
      },
      "execution_count": 169,
      "outputs": []
    },
    {
      "cell_type": "code",
      "source": [
        "# tf-idf for customer remarks\n",
        "\n",
        "from sklearn.feature_extraction.text import TfidfVectorizer\n",
        "\n",
        "tfidf = TfidfVectorizer(max_features=500)\n",
        "tfidf_train = tfidf.fit_transform(train_df['Customer Remarks'].fillna(''))\n",
        "tfidf_val = tfidf.transform(val_df['Customer Remarks'].fillna(''))"
      ],
      "metadata": {
        "id": "Uoy_rbkWTvEK"
      },
      "execution_count": 170,
      "outputs": []
    },
    {
      "cell_type": "code",
      "source": [
        "# combining all numeric features\n",
        "\n",
        "num_train = pd.concat([train_df[['month_sin', 'month_cos','day_sin','day_cos','hour_sin','hour_cos',\n",
        "                                'survey_date_sin','survey_date_cos','tenure_map', 'is_weekend']],\n",
        "                      oh_train,\n",
        "                      pd.DataFrame(response_time_train, index=train_df.index, columns=['response_time'])],axis=1)\n",
        "num_val = pd.concat([val_df[['month_sin', 'month_cos','day_sin','day_cos','hour_sin','hour_cos',\n",
        "                                'survey_date_sin','survey_date_cos','tenure_map', 'is_weekend']],\n",
        "                      oh_val,\n",
        "                      pd.DataFrame(response_time_val, index=val_df.index, columns=['response_time'])],axis=1)"
      ],
      "metadata": {
        "id": "U-YSzvMxUChB"
      },
      "execution_count": 173,
      "outputs": []
    },
    {
      "cell_type": "code",
      "source": [
        "num_train = num_train.astype({col: 'int' for col in num_train.select_dtypes(bool).columns})\n",
        "num_val = num_val.astype({col: 'int' for col in num_val.select_dtypes(bool).columns})"
      ],
      "metadata": {
        "id": "jxXh9zbeZuru"
      },
      "execution_count": 199,
      "outputs": []
    },
    {
      "cell_type": "code",
      "source": [
        "# defining inputs\n",
        "from tensorflow.keras.layers import Input, Embedding, Flatten, Concatenate, Dense\n",
        "\n",
        "agent_input = Input(shape=(1,), name = 'agent_name')\n",
        "supervisor_input = Input(shape=(1,), name = 'supervisor')\n",
        "subcategory_input = Input(shape=(1,), name = 'subcategory')\n",
        "\n",
        "numeric_input = Input(shape=(num_train.shape[1],), name = 'numeric_input')\n",
        "tfidf_input = Input(shape=(tfidf_train.shape[1],), name = 'tfidf_input')"
      ],
      "metadata": {
        "id": "AgKBAe-qVylp"
      },
      "execution_count": 188,
      "outputs": []
    },
    {
      "cell_type": "code",
      "source": [
        "# embeddings\n",
        "\n",
        "agent_emb = Embedding(input_dim = len(le_agent.classes_), output_dim=8)(agent_input)\n",
        "supervisor_emb = Embedding(input_dim = len(le_supervisor.classes_), output_dim=4)(supervisor_input)\n",
        "subcategory_emb = Embedding(input_dim = len(le_subcategory.classes_), output_dim=4)(subcategory_input)\n",
        "\n",
        "agent_emb = Flatten()(agent_emb)\n",
        "supervisor_emb = Flatten()(supervisor_emb)\n",
        "subcategory_emb = Flatten()(subcategory_emb)"
      ],
      "metadata": {
        "id": "PJiaPDaBWNza"
      },
      "execution_count": 189,
      "outputs": []
    },
    {
      "cell_type": "code",
      "source": [
        "# Combine all\n",
        "from tensorflow.keras.models import Model\n",
        "from tensorflow.keras.optimizers import Adam\n",
        "from tensorflow.keras.regularizers import l2\n",
        "from tensorflow.keras.layers import Dropout\n",
        "\n",
        "combined = Concatenate()([agent_emb, supervisor_emb,subcategory_emb, numeric_input#, tfidf_input\n",
        "                          ])\n",
        "\n",
        "x = Dense(128, activation='relu',  kernel_regularizer=l2(0.001))(combined)\n",
        "x = Dropout(0.3)(x)\n",
        "x = Dense(64, activation='relu',  kernel_regularizer=l2(0.001))(x)\n",
        "x = Dropout(0.3)(x)\n",
        "x = Dense(64, activation='relu',  kernel_regularizer=l2(0.001))(x)\n",
        "x = Dropout(0.3)(x)\n",
        "x = Dense(32, activation='relu',  kernel_regularizer=l2(0.001))(x)\n",
        "x = Dropout(0.1)(x)\n",
        "output = Dense(5, activation='softmax')(x)\n",
        "\n",
        "optimizer = Adam(learning_rate=0.005)\n",
        "\n",
        "model = Model(inputs=[agent_input, supervisor_input, subcategory_input, numeric_input],# tfidf_input],\n",
        "                      outputs=output)\n",
        "model.compile(optimizer=optimizer, loss='sparse_categorical_crossentropy', metrics=['accuracy'])"
      ],
      "metadata": {
        "id": "uMeRonfmXGwS"
      },
      "execution_count": 227,
      "outputs": []
    },
    {
      "cell_type": "code",
      "source": [
        "# from tensorflow.keras.callbacks import EarlyStopping\n",
        "\n",
        "# early_stop = EarlyStopping(patience=3, restore_best_weights=True)\n",
        "# model.fit(..., callbacks=[early_stop])"
      ],
      "metadata": {
        "id": "7uo6lvqkdB5D"
      },
      "execution_count": null,
      "outputs": []
    },
    {
      "cell_type": "code",
      "source": [
        "#  train the model\n",
        "\n",
        "model.fit(\n",
        "    x=[agent_ids_train, supervisor_ids_train, subcategory_ids_train, num_train.to_numpy()#, tfidf_train.toarray()\n",
        "    ],\n",
        "    y=y_train.to_numpy(),\n",
        "    validation_data=([agent_ids_val, supervisor_ids_val,subcategory_ids_val, num_val.to_numpy()#, tfidf_val.toarray()\n",
        "    ],\n",
        "                     y_val.to_numpy()),\n",
        "    epochs=10,\n",
        "    batch_size=32\n",
        ")\n",
        "\n"
      ],
      "metadata": {
        "colab": {
          "base_uri": "https://localhost:8080/"
        },
        "id": "ydEddm7BYrku",
        "outputId": "1d201694-7383-4ed8-9ba7-83284d3f857f"
      },
      "execution_count": 228,
      "outputs": [
        {
          "output_type": "stream",
          "name": "stdout",
          "text": [
            "Epoch 1/10\n",
            "\u001b[1m2148/2148\u001b[0m \u001b[32m━━━━━━━━━━━━━━━━━━━━\u001b[0m\u001b[37m\u001b[0m \u001b[1m13s\u001b[0m 5ms/step - accuracy: 0.6929 - loss: 1.0327 - val_accuracy: 0.6962 - val_loss: 0.9329\n",
            "Epoch 2/10\n",
            "\u001b[1m2148/2148\u001b[0m \u001b[32m━━━━━━━━━━━━━━━━━━━━\u001b[0m\u001b[37m\u001b[0m \u001b[1m8s\u001b[0m 4ms/step - accuracy: 0.6947 - loss: 0.9304 - val_accuracy: 0.6957 - val_loss: 0.9301\n",
            "Epoch 3/10\n",
            "\u001b[1m2148/2148\u001b[0m \u001b[32m━━━━━━━━━━━━━━━━━━━━\u001b[0m\u001b[37m\u001b[0m \u001b[1m11s\u001b[0m 4ms/step - accuracy: 0.6982 - loss: 0.9220 - val_accuracy: 0.6957 - val_loss: 0.9303\n",
            "Epoch 4/10\n",
            "\u001b[1m2148/2148\u001b[0m \u001b[32m━━━━━━━━━━━━━━━━━━━━\u001b[0m\u001b[37m\u001b[0m \u001b[1m12s\u001b[0m 5ms/step - accuracy: 0.6942 - loss: 0.9265 - val_accuracy: 0.6946 - val_loss: 0.9334\n",
            "Epoch 5/10\n",
            "\u001b[1m2148/2148\u001b[0m \u001b[32m━━━━━━━━━━━━━━━━━━━━\u001b[0m\u001b[37m\u001b[0m \u001b[1m10s\u001b[0m 5ms/step - accuracy: 0.6947 - loss: 0.9244 - val_accuracy: 0.6963 - val_loss: 0.9385\n",
            "Epoch 6/10\n",
            "\u001b[1m2148/2148\u001b[0m \u001b[32m━━━━━━━━━━━━━━━━━━━━\u001b[0m\u001b[37m\u001b[0m \u001b[1m10s\u001b[0m 5ms/step - accuracy: 0.6947 - loss: 0.9248 - val_accuracy: 0.6962 - val_loss: 0.9336\n",
            "Epoch 7/10\n",
            "\u001b[1m2148/2148\u001b[0m \u001b[32m━━━━━━━━━━━━━━━━━━━━\u001b[0m\u001b[37m\u001b[0m \u001b[1m9s\u001b[0m 4ms/step - accuracy: 0.6934 - loss: 0.9293 - val_accuracy: 0.6958 - val_loss: 0.9352\n",
            "Epoch 8/10\n",
            "\u001b[1m2148/2148\u001b[0m \u001b[32m━━━━━━━━━━━━━━━━━━━━\u001b[0m\u001b[37m\u001b[0m \u001b[1m10s\u001b[0m 5ms/step - accuracy: 0.6970 - loss: 0.9222 - val_accuracy: 0.6950 - val_loss: 0.9383\n",
            "Epoch 9/10\n",
            "\u001b[1m2148/2148\u001b[0m \u001b[32m━━━━━━━━━━━━━━━━━━━━\u001b[0m\u001b[37m\u001b[0m \u001b[1m12s\u001b[0m 5ms/step - accuracy: 0.6958 - loss: 0.9207 - val_accuracy: 0.6954 - val_loss: 0.9421\n",
            "Epoch 10/10\n",
            "\u001b[1m2148/2148\u001b[0m \u001b[32m━━━━━━━━━━━━━━━━━━━━\u001b[0m\u001b[37m\u001b[0m \u001b[1m8s\u001b[0m 4ms/step - accuracy: 0.6950 - loss: 0.9238 - val_accuracy: 0.6960 - val_loss: 0.9311\n"
          ]
        },
        {
          "output_type": "execute_result",
          "data": {
            "text/plain": [
              "<keras.src.callbacks.history.History at 0x792d85c64b50>"
            ]
          },
          "metadata": {},
          "execution_count": 228
        }
      ]
    }
  ],
  "metadata": {
    "colab": {
      "collapsed_sections": [
        "vncDsAP0Gaoa",
        "FJNUwmbgGyua",
        "w6K7xa23Elo4",
        "HhfV-JJviCcP",
        "7hBIi_osiCS2",
        "JlHwYmJAmNHm",
        "35m5QtbWiB9F",
        "PoPl-ycgm1ru",
        "nA9Y7ga8ng1Z",
        "PBTbrJXOngz2",
        "GF8Ens_Soomf",
        "0wOQAZs5pc--",
        "g-ATYxFrGrvw",
        "lVbgDvXWy2Qt",
        "59dHB-b_1Dat",
        "FWr5eVzk1T2s",
        "kxp-JZWC187s",
        "6rLzqwp12gmU",
        "dU1Gs8sM2_Is"
      ],
      "provenance": []
    },
    "kernelspec": {
      "display_name": "Python 3",
      "name": "python3"
    },
    "language_info": {
      "name": "python"
    }
  },
  "nbformat": 4,
  "nbformat_minor": 0
}
